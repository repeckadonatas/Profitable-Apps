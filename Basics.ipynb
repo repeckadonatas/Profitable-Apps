{
 "cells": [
  {
   "cell_type": "markdown",
   "metadata": {},
   "source": [
    "# Profitable App Profiles for the App Store and Google Play Markets"
   ]
  },
  {
   "cell_type": "markdown",
   "metadata": {},
   "source": [
    "### Opening the datasets"
   ]
  },
  {
   "cell_type": "markdown",
   "metadata": {},
   "source": [
    "We will be looking at datasets containing data about Androit apps from Google Play and iOS apps from App Store:\n",
    "* A dataset containing data about approximately 10,000 Android apps from Google Play; the data was collected in August 2018.\n",
    "\n",
    "* A dataset containing data about approximately 7,000 iOS apps from the App Store; the data was collected in July 2017.\n",
    "\n",
    "We first open the files and extract headers to find the names of columns in each dataset."
   ]
  },
  {
   "cell_type": "code",
   "execution_count": 1,
   "metadata": {},
   "outputs": [],
   "source": [
    "from csv import reader\n",
    "\n",
    "def open_data_and_get_header(file_name):\n",
    "    open_file = open(file_name)\n",
    "    read_file = reader(open_file)\n",
    "    dataset = list(read_file)\n",
    "    header = dataset[0]\n",
    "    dataset = dataset[1:]\n",
    "    print(header, '\\n')\n",
    "    return dataset\n",
    "    "
   ]
  },
  {
   "cell_type": "markdown",
   "metadata": {},
   "source": [
    "Next we will open the datasets and explore their contents"
   ]
  },
  {
   "cell_type": "code",
   "execution_count": 2,
   "metadata": {},
   "outputs": [],
   "source": [
    "def explore_data(dataset, start, end, rows_and_columns=False):\n",
    "    dataset_slice = dataset[start:end]    \n",
    "    for row in dataset_slice:\n",
    "        print(row, '\\n')\n",
    "\n",
    "    if rows_and_columns:\n",
    "        print('Number of rows:', len(dataset))\n",
    "        print('Number of columns:', len(dataset[0]))"
   ]
  },
  {
   "cell_type": "code",
   "execution_count": 3,
   "metadata": {
    "scrolled": true
   },
   "outputs": [
    {
     "name": "stdout",
     "output_type": "stream",
     "text": [
      "['id', 'track_name', 'size_bytes', 'currency', 'price', 'rating_count_tot', 'rating_count_ver', 'user_rating', 'user_rating_ver', 'ver', 'cont_rating', 'prime_genre', 'sup_devices.num', 'ipadSc_urls.num', 'lang.num', 'vpp_lic'] \n",
      "\n",
      "['284882215', 'Facebook', '389879808', 'USD', '0.0', '2974676', '212', '3.5', '3.5', '95.0', '4+', 'Social Networking', '37', '1', '29', '1'] \n",
      "\n",
      "['389801252', 'Instagram', '113954816', 'USD', '0.0', '2161558', '1289', '4.5', '4.0', '10.23', '12+', 'Photo & Video', '37', '0', '29', '1'] \n",
      "\n",
      "Number of rows: 7197\n",
      "Number of columns: 16\n"
     ]
    }
   ],
   "source": [
    "apple_dataset = open_data_and_get_header('AppleStore.csv')\n",
    "exploring_apple = explore_data(apple_dataset, 0, 2, True)"
   ]
  },
  {
   "cell_type": "code",
   "execution_count": 4,
   "metadata": {
    "scrolled": true
   },
   "outputs": [
    {
     "name": "stdout",
     "output_type": "stream",
     "text": [
      "['App', 'Category', 'Rating', 'Reviews', 'Size', 'Installs', 'Type', 'Price', 'Content Rating', 'Genres', 'Last Updated', 'Current Ver', 'Android Ver'] \n",
      "\n",
      "['Photo Editor & Candy Camera & Grid & ScrapBook', 'ART_AND_DESIGN', '4.1', '159', '19M', '10,000+', 'Free', '0', 'Everyone', 'Art & Design', 'January 7, 2018', '1.0.0', '4.0.3 and up'] \n",
      "\n",
      "['Coloring book moana', 'ART_AND_DESIGN', '3.9', '967', '14M', '500,000+', 'Free', '0', 'Everyone', 'Art & Design;Pretend Play', 'January 15, 2018', '2.0.0', '4.0.3 and up'] \n",
      "\n",
      "Number of rows: 10841\n",
      "Number of columns: 13\n"
     ]
    }
   ],
   "source": [
    "google_dataset = open_data_and_get_header('googleplaystore.csv')\n",
    "exploring_google = explore_data(google_dataset, 0, 2, True)"
   ]
  },
  {
   "cell_type": "markdown",
   "metadata": {},
   "source": [
    "## Data Cleaning\n",
    "### Removing Rows with Missing Column Entry"
   ]
  },
  {
   "cell_type": "markdown",
   "metadata": {},
   "source": [
    "Before beginning our analysis, we need to make sure the data we analyze is accurate, or the results of our analysis will be wrong. This means that we need to:\n",
    "\n",
    "* Detect inaccurate data, and correct or remove it;\n",
    "* Detect duplicate data, and remove the duplicates.\n"
   ]
  },
  {
   "cell_type": "markdown",
   "metadata": {},
   "source": [
    "Since we focus on apps designed for *English speaking* audience that are also *free*, we will be removing:\n",
    "* non-English apps;\n",
    "* apps that are not free."
   ]
  },
  {
   "cell_type": "markdown",
   "metadata": {},
   "source": [
    "First, lets find the errors in datasets. From a dedicated discussion section we know that there is an error in a certain row. Lets find this row:"
   ]
  },
  {
   "cell_type": "code",
   "execution_count": 5,
   "metadata": {},
   "outputs": [],
   "source": [
    "def bad_data(dataset):\n",
    "    for row in dataset[1:]:\n",
    "        if len(row) != len(dataset[0]):\n",
    "            print('Row missing a column: ', dataset.index(row))\n",
    "            print()\n",
    "            print('Length of irregular row:', \n",
    "                  len(dataset[dataset.index(row)]))\n",
    "            print('Length of the dataset header:', len(dataset[0]))"
   ]
  },
  {
   "cell_type": "code",
   "execution_count": 6,
   "metadata": {},
   "outputs": [
    {
     "name": "stdout",
     "output_type": "stream",
     "text": [
      "Checking Google Play data: \n",
      "\n",
      "Row missing a column:  10472\n",
      "\n",
      "Length of irregular row: 12\n",
      "Length of the dataset header: 13\n",
      "\n",
      "Checking App Store data: \n",
      "\n"
     ]
    }
   ],
   "source": [
    "print('Checking Google Play data:', '\\n')\n",
    "bad_android = bad_data(google_dataset)\n",
    "print()\n",
    "print('Checking App Store data:', '\\n')\n",
    "bad_apple = bad_data(apple_dataset)"
   ]
  },
  {
   "cell_type": "markdown",
   "metadata": {},
   "source": [
    "From the results we can see, that Google's data has an error, which is a missing column in row 10472.\n",
    "We will go and remove this row from a dataset."
   ]
  },
  {
   "cell_type": "code",
   "execution_count": 7,
   "metadata": {},
   "outputs": [
    {
     "name": "stdout",
     "output_type": "stream",
     "text": [
      "10841\n",
      "10840\n"
     ]
    }
   ],
   "source": [
    "print(len(google_dataset))\n",
    "del google_dataset[10472] #use this only once!!\n",
    "print(len(google_dataset))"
   ]
  },
  {
   "cell_type": "markdown",
   "metadata": {},
   "source": [
    "### Removing Duplicate Entries"
   ]
  },
  {
   "cell_type": "markdown",
   "metadata": {},
   "source": [
    "In this step we will look for duplicate data."
   ]
  },
  {
   "cell_type": "code",
   "execution_count": 8,
   "metadata": {},
   "outputs": [],
   "source": [
    "def unique_and_duplicate(dataset):\n",
    "    duplicate_apps = []\n",
    "    unique_apps = []\n",
    "    for row in dataset:\n",
    "        name = row[0]\n",
    "        if name in unique_apps:\n",
    "            duplicate_apps.append(name)\n",
    "        else:\n",
    "            unique_apps.append(name)\n",
    "    \n",
    "    print('Number of duplicate apps:', len(duplicate_apps))\n",
    "    print()\n",
    "    return duplicate_apps\n"
   ]
  },
  {
   "cell_type": "code",
   "execution_count": 9,
   "metadata": {},
   "outputs": [
    {
     "name": "stdout",
     "output_type": "stream",
     "text": [
      "Google Play:\n",
      "Number of duplicate apps: 1181\n",
      "\n",
      "App Store:\n",
      "Number of duplicate apps: 0\n",
      "\n"
     ]
    }
   ],
   "source": [
    "print('Google Play:')\n",
    "dup_google = unique_and_duplicate(google_dataset)\n",
    "\n",
    "print('App Store:')\n",
    "dup_apple = unique_and_duplicate(apple_dataset)"
   ]
  },
  {
   "cell_type": "markdown",
   "metadata": {},
   "source": [
    "From the results we can see that Google Play store has 1181 duplicate app entries.\n",
    "Now we need to determine the criterion by which we will remove the duplicate data. First we will look at the list of duplicate apps and then we will print an app of our choosing to determine the criterion by which we will remove the duplicates."
   ]
  },
  {
   "cell_type": "code",
   "execution_count": 10,
   "metadata": {},
   "outputs": [
    {
     "name": "stdout",
     "output_type": "stream",
     "text": [
      "['Quick PDF Scanner + OCR FREE', 'Box', 'Google My Business', 'ZOOM Cloud Meetings', 'join.me - Simple Meetings', 'Box', 'Zenefits', 'Google Ads', 'Google My Business', 'Slack']\n"
     ]
    }
   ],
   "source": [
    "print(dup_google[:10])"
   ]
  },
  {
   "cell_type": "code",
   "execution_count": 11,
   "metadata": {},
   "outputs": [],
   "source": [
    "def dup_app_info(app_name):\n",
    "    for app in google_dataset:\n",
    "        name = app[0]\n",
    "        if name == app_name:\n",
    "            print(app, '\\n')"
   ]
  },
  {
   "cell_type": "code",
   "execution_count": 12,
   "metadata": {
    "scrolled": false
   },
   "outputs": [
    {
     "name": "stdout",
     "output_type": "stream",
     "text": [
      "['Box', 'BUSINESS', '4.2', '159872', 'Varies with device', '10,000,000+', 'Free', '0', 'Everyone', 'Business', 'July 31, 2018', 'Varies with device', 'Varies with device'] \n",
      "\n",
      "['Box', 'BUSINESS', '4.2', '159872', 'Varies with device', '10,000,000+', 'Free', '0', 'Everyone', 'Business', 'July 31, 2018', 'Varies with device', 'Varies with device'] \n",
      "\n",
      "['Box', 'BUSINESS', '4.2', '159872', 'Varies with device', '10,000,000+', 'Free', '0', 'Everyone', 'Business', 'July 31, 2018', 'Varies with device', 'Varies with device'] \n",
      "\n",
      "None\n",
      "['Google Ads', 'BUSINESS', '4.3', '29313', '20M', '5,000,000+', 'Free', '0', 'Everyone', 'Business', 'July 30, 2018', '1.12.0', '4.0.3 and up'] \n",
      "\n",
      "['Google Ads', 'BUSINESS', '4.3', '29313', '20M', '5,000,000+', 'Free', '0', 'Everyone', 'Business', 'July 30, 2018', '1.12.0', '4.0.3 and up'] \n",
      "\n",
      "['Google Ads', 'BUSINESS', '4.3', '29331', '20M', '5,000,000+', 'Free', '0', 'Everyone', 'Business', 'July 30, 2018', '1.12.0', '4.0.3 and up'] \n",
      "\n",
      "None\n"
     ]
    }
   ],
   "source": [
    "print(dup_app_info('Box'))\n",
    "print(dup_app_info('Google Ads'))"
   ]
  },
  {
   "cell_type": "markdown",
   "metadata": {},
   "source": [
    "After looking at duplicates, we can see that we can use a column `Reviews` at index position 3 as our criteria to remove duplicate apps."
   ]
  },
  {
   "cell_type": "markdown",
   "metadata": {},
   "source": [
    "To begin removing duplicates, we first add apps with the highest `Reviews` score into a new dictionary. Those apps that have the correct entry is put into the same dictionary too. We then check the length of dictionary to the expected length of the dataset to check if the dictionary is populated correctly."
   ]
  },
  {
   "cell_type": "code",
   "execution_count": 13,
   "metadata": {},
   "outputs": [
    {
     "name": "stdout",
     "output_type": "stream",
     "text": [
      "Expected length: 9659\n",
      "Actual length: 9659\n"
     ]
    }
   ],
   "source": [
    "reviews_max = {}\n",
    "\n",
    "for row in google_dataset:\n",
    "    name = row[0]\n",
    "    n_reviews = float(row[3])\n",
    "    \n",
    "    if name in reviews_max and reviews_max[name] < n_reviews:\n",
    "        reviews_max[name] = n_reviews\n",
    "    elif name not in reviews_max:\n",
    "        reviews_max[name] = n_reviews\n",
    "\n",
    "print('Expected length:', len(google_dataset) - 1181)\n",
    "print('Actual length:',len(reviews_max))"
   ]
  },
  {
   "cell_type": "markdown",
   "metadata": {},
   "source": [
    "Now we will use the `reviews_max` dictionary we created to remove the duplicates from the dataset.\n",
    "In the code cell below:\n",
    "* We initialize two empty list;\n",
    "* We loop through the `google_dataset` dataset:\n",
    "    * For every iteration we isolate the name of the app and the number of reviews;\n",
    "    * We add the current row to the `android_clean` list and the app name to the `already_added` list if:\n",
    "        * The number of reviews of the current app matches the number of reviews of that app as described in the `reviews_max`;\n",
    "        * The name of the app is not already in the `already_added` list. We need to add this supplementary condition to account for those cases where the highest number of reviews of a duplicate app is the same for more than one entry."
   ]
  },
  {
   "cell_type": "code",
   "execution_count": 14,
   "metadata": {},
   "outputs": [
    {
     "name": "stdout",
     "output_type": "stream",
     "text": [
      "Expected length: 9659\n",
      "Actual length: 9659\n",
      "\n",
      "Confirming info by reruning `explore_data` function: \n",
      "\n",
      "['Photo Editor & Candy Camera & Grid & ScrapBook', 'ART_AND_DESIGN', '4.1', '159', '19M', '10,000+', 'Free', '0', 'Everyone', 'Art & Design', 'January 7, 2018', '1.0.0', '4.0.3 and up'] \n",
      "\n",
      "['U Launcher Lite – FREE Live Cool Themes, Hide Apps', 'ART_AND_DESIGN', '4.7', '87510', '8.7M', '5,000,000+', 'Free', '0', 'Everyone', 'Art & Design', 'August 1, 2018', '1.2.4', '4.0.3 and up'] \n",
      "\n",
      "Number of rows: 9659\n",
      "Number of columns: 13\n",
      "None\n"
     ]
    }
   ],
   "source": [
    "android_clean = []\n",
    "already_added = []\n",
    "\n",
    "for row in google_dataset:\n",
    "    name = row[0]\n",
    "    n_reviews = float(row[3])\n",
    "    \n",
    "    if (reviews_max[name] == n_reviews) and (name not in already_added):\n",
    "        android_clean.append(row)\n",
    "        already_added.append(name)\n",
    "        \n",
    "print('Expected length:', len(google_dataset) - 1181)\n",
    "print('Actual length:', len(android_clean))\n",
    "print()\n",
    "print('Confirming info by reruning `explore_data` function:', '\\n')\n",
    "print(explore_data(android_clean, 0, 2, True))"
   ]
  },
  {
   "cell_type": "markdown",
   "metadata": {},
   "source": [
    "### Removing Non-English Apps"
   ]
  },
  {
   "cell_type": "markdown",
   "metadata": {},
   "source": [
    "Now that we have removed the duplicate apps from our dataset, we need to check if there are any non-english apps and remove if there are any. We do so because we analyze apps that are designed for an English-speaking audience.\n",
    "Some apps names contain emojis and other special characters, but they still are English. We are checking the names in accordance with ASCII range to determine if the name of the app is English. According to ASCII, the characters we commonly use in an English text corresponds to numbers in the range 0 to 127."
   ]
  },
  {
   "cell_type": "markdown",
   "metadata": {},
   "source": [
    "Some English app names use emojis or other symbols (™, — (em dash), – (en dash), etc.) that fall outside of the ASCII range. Because of this, we'll remove useful apps if we use the function in its current form."
   ]
  },
  {
   "cell_type": "code",
   "execution_count": 15,
   "metadata": {},
   "outputs": [
    {
     "name": "stdout",
     "output_type": "stream",
     "text": [
      "True\n",
      "False\n",
      "False\n",
      "False\n"
     ]
    }
   ],
   "source": [
    "def english_app(app_name):\n",
    "    for character in app_name:\n",
    "        if ord(character) > 127:\n",
    "            return False\n",
    "    \n",
    "    return True\n",
    "\n",
    "        \n",
    "print(english_app('Instagram'))\n",
    "print(english_app('爱奇艺PPS -《欢乐颂2》电视剧热播'))\n",
    "print(english_app('Docs To Go™ Free Office Suite'))\n",
    "print(english_app('Instachat 😜'))"
   ]
  },
  {
   "cell_type": "markdown",
   "metadata": {},
   "source": [
    "To minimize the impact of data loss, we'll only remove an app if its name has more than three characters with corresponding numbers falling outside the ASCII range. This means all English apps with up to three emoji or other special characters will still be labeled as English."
   ]
  },
  {
   "cell_type": "code",
   "execution_count": 16,
   "metadata": {},
   "outputs": [
    {
     "name": "stdout",
     "output_type": "stream",
     "text": [
      "True\n",
      "False\n",
      "True\n",
      "True\n"
     ]
    }
   ],
   "source": [
    "def english_app(app_name):\n",
    "    non_ascii = 0\n",
    "    \n",
    "    for character in app_name:\n",
    "        if ord(character) > 127:\n",
    "            non_ascii += 1\n",
    "    \n",
    "    if non_ascii > 3:\n",
    "        return False\n",
    "    else:\n",
    "        return True\n",
    "    \n",
    "print(english_app('Instagram'))\n",
    "print(english_app('爱奇艺PPS -《欢乐颂2》电视剧热播'))\n",
    "print(english_app('Docs To Go™ Free Office Suite'))\n",
    "print(english_app('Instachat 😜'))"
   ]
  },
  {
   "cell_type": "code",
   "execution_count": 17,
   "metadata": {},
   "outputs": [
    {
     "name": "stdout",
     "output_type": "stream",
     "text": [
      "['Photo Editor & Candy Camera & Grid & ScrapBook', 'ART_AND_DESIGN', '4.1', '159', '19M', '10,000+', 'Free', '0', 'Everyone', 'Art & Design', 'January 7, 2018', '1.0.0', '4.0.3 and up'] \n",
      "\n",
      "['U Launcher Lite – FREE Live Cool Themes, Hide Apps', 'ART_AND_DESIGN', '4.7', '87510', '8.7M', '5,000,000+', 'Free', '0', 'Everyone', 'Art & Design', 'August 1, 2018', '1.2.4', '4.0.3 and up'] \n",
      "\n",
      "['Sketch - Draw & Paint', 'ART_AND_DESIGN', '4.5', '215644', '25M', '50,000,000+', 'Free', '0', 'Teen', 'Art & Design', 'June 8, 2018', 'Varies with device', '4.2 and up'] \n",
      "\n",
      "Number of rows: 9614\n",
      "Number of columns: 13\n",
      "\n",
      "['284882215', 'Facebook', '389879808', 'USD', '0.0', '2974676', '212', '3.5', '3.5', '95.0', '4+', 'Social Networking', '37', '1', '29', '1'] \n",
      "\n",
      "['389801252', 'Instagram', '113954816', 'USD', '0.0', '2161558', '1289', '4.5', '4.0', '10.23', '12+', 'Photo & Video', '37', '0', '29', '1'] \n",
      "\n",
      "['529479190', 'Clash of Clans', '116476928', 'USD', '0.0', '2130805', '579', '4.5', '4.5', '9.24.12', '9+', 'Games', '38', '5', '18', '1'] \n",
      "\n",
      "Number of rows: 6183\n",
      "Number of columns: 16\n",
      "\n"
     ]
    }
   ],
   "source": [
    "android_english = []\n",
    "apple_english = []\n",
    "\n",
    "for row in android_clean:\n",
    "    name = row[0]\n",
    "    if english_app(name):\n",
    "        android_english.append(row)\n",
    "        \n",
    "for row in apple_dataset:\n",
    "    name = row[1]\n",
    "    if english_app(name):\n",
    "        apple_english.append(row)\n",
    "\n",
    "\n",
    "explore_data(android_english, 0, 3, True)\n",
    "print()\n",
    "explore_data(apple_english, 0, 3, True)\n",
    "print()"
   ]
  },
  {
   "cell_type": "markdown",
   "metadata": {},
   "source": [
    "### Isolating the Free Apps"
   ]
  },
  {
   "cell_type": "markdown",
   "metadata": {},
   "source": [
    "So far in the data cleaning process, we've done the following:\n",
    "* Remove inaccurate data;\n",
    "* Removed duplicate app entries;\n",
    "* Removed non-English apps.\n",
    "\n",
    "As we only build apps that are free to download and install, and our main source of revenue consists of in-app ads. Our datasets contain both free and non-free apps; we'll need to isolate only the free apps for our analysis."
   ]
  },
  {
   "cell_type": "code",
   "execution_count": 18,
   "metadata": {},
   "outputs": [
    {
     "name": "stdout",
     "output_type": "stream",
     "text": [
      "Number of free Android Apps: 8863\n",
      "\n",
      "Number of free Apple Apps: 3222\n",
      "\n"
     ]
    }
   ],
   "source": [
    "free_android = []\n",
    "free_apple = []\n",
    "\n",
    "for row in android_english:\n",
    "    price = row[6]\n",
    "    if price == 'Free':\n",
    "        free_android.append(row)\n",
    "        \n",
    "for row in apple_english:\n",
    "    price = row[4]\n",
    "    if price == '0.0':\n",
    "        free_apple.append(row)\n",
    "        \n",
    "print('Number of free Android Apps:', len(free_android))\n",
    "print()\n",
    "print('Number of free Apple Apps:', len(free_apple))\n",
    "print()"
   ]
  },
  {
   "cell_type": "markdown",
   "metadata": {},
   "source": [
    "## Data Analysis"
   ]
  },
  {
   "cell_type": "markdown",
   "metadata": {},
   "source": [
    "### Most Common Apps by Genre"
   ]
  },
  {
   "cell_type": "markdown",
   "metadata": {},
   "source": [
    "Our aim is to determine the kinds of apps that are likely to attract more users because our revenue is highly influenced by the number of people using our apps.\n",
    "\n",
    "To minimize risks and overhead, our validation strategy for an app idea is comprised of three steps:\n",
    "\n",
    "   * Build a minimal Android version of the app, and add it to Google Play.\n",
    "   * If the app has a good response from users, we develop it further.\n",
    "   * If the app is profitable after six months, we build an iOS version of the app and add it to the App Store.\n",
    "\n",
    "Because our end goal is to add the app on both Google Play and the App Store, we need to find app profiles that are successful on both markets. For instance, a profile that works well for both markets might be a productivity app that makes use of gamification."
   ]
  },
  {
   "cell_type": "markdown",
   "metadata": {},
   "source": [
    "After inspecting the data sets to identify the columns that might be useful for determining the most common genres in each market, our conclusion was that we'll need to build a frequency table for the `prime_genre` column of the App Store data set, and for the `Genres` and `Category` columns of the Google Play data set.\n",
    "\n",
    "We'll build two functions we can use to analyze the frequency tables:\n",
    "\n",
    "   * One function to generate frequency tables that show percentages;\n",
    "   * Another function we can use to display the percentages in a descending order.\n",
    "\n",
    "We will use the built-in function `sorted()`."
   ]
  },
  {
   "cell_type": "code",
   "execution_count": 19,
   "metadata": {},
   "outputs": [],
   "source": [
    "def freq_table(dataset, index):\n",
    "    frequency_table = {}\n",
    "    total = 0\n",
    "    \n",
    "    for row in dataset:\n",
    "        column = row[index]\n",
    "        total += 1\n",
    "        if column in frequency_table:\n",
    "            frequency_table[column] += 1\n",
    "        else:\n",
    "            frequency_table[column] = 1\n",
    "        \n",
    "    freq_percentages = {}\n",
    "    for key in frequency_table:\n",
    "        percentage = (frequency_table[key] / total) * 100\n",
    "        freq_percentages[key] = percentage\n",
    "\n",
    "    return freq_percentages\n",
    "\n",
    "def display_table(dataset, index):\n",
    "    table = freq_table(dataset, index)\n",
    "    table_display = []\n",
    "    for key in table:\n",
    "        key_val_as_tuple = (table[key], key)\n",
    "        table_display.append(key_val_as_tuple)\n",
    "\n",
    "    table_sorted = sorted(table_display, reverse = True)\n",
    "    for entry in table_sorted:\n",
    "        print(entry[1], ':', entry[0])"
   ]
  },
  {
   "cell_type": "markdown",
   "metadata": {},
   "source": [
    "Generating frequency tables for selected columns `prime_genre`, `Genres` and `Category`:"
   ]
  },
  {
   "cell_type": "code",
   "execution_count": 20,
   "metadata": {
    "scrolled": false
   },
   "outputs": [
    {
     "name": "stdout",
     "output_type": "stream",
     "text": [
      "Frequency table for Apple Apps by Genre: \n",
      "\n",
      "Games : 58.16263190564867\n",
      "Entertainment : 7.883302296710118\n",
      "Photo & Video : 4.9658597144630665\n",
      "Education : 3.662321539416512\n",
      "Social Networking : 3.2898820608317814\n",
      "Shopping : 2.60707635009311\n",
      "Utilities : 2.5139664804469275\n",
      "Sports : 2.1415270018621975\n",
      "Music : 2.0484171322160147\n",
      "Health & Fitness : 2.0173805090006205\n",
      "Productivity : 1.7380509000620732\n",
      "Lifestyle : 1.5828677839851024\n",
      "News : 1.3345747982619491\n",
      "Travel : 1.2414649286157666\n",
      "Finance : 1.1173184357541899\n",
      "Weather : 0.8690254500310366\n",
      "Food & Drink : 0.8069522036002483\n",
      "Reference : 0.5586592178770949\n",
      "Business : 0.5276225946617008\n",
      "Book : 0.4345127250155183\n",
      "Navigation : 0.186219739292365\n",
      "Medical : 0.186219739292365\n",
      "Catalogs : 0.12414649286157665\n"
     ]
    }
   ],
   "source": [
    "print('Frequency table for Apple Apps by Genre:', '\\n')\n",
    "display_table(free_apple, -5) #prime_genre"
   ]
  },
  {
   "cell_type": "code",
   "execution_count": 21,
   "metadata": {},
   "outputs": [
    {
     "name": "stdout",
     "output_type": "stream",
     "text": [
      "Frequency table for Google Play by Genre: \n",
      "\n",
      "FAMILY : 18.898792733837304\n",
      "GAME : 9.725826469592688\n",
      "TOOLS : 8.462146000225657\n",
      "BUSINESS : 4.592124562789123\n",
      "LIFESTYLE : 3.9038700214374367\n",
      "PRODUCTIVITY : 3.8925871601038025\n",
      "FINANCE : 3.7007785174320205\n",
      "MEDICAL : 3.5315355974275078\n",
      "SPORTS : 3.396141261423897\n",
      "PERSONALIZATION : 3.317161232088458\n",
      "COMMUNICATION : 3.2381812027530184\n",
      "HEALTH_AND_FITNESS : 3.0802211440821394\n",
      "PHOTOGRAPHY : 2.944826808078529\n",
      "NEWS_AND_MAGAZINES : 2.798149610741284\n",
      "SOCIAL : 2.6627552747376737\n",
      "TRAVEL_AND_LOCAL : 2.335552296062281\n",
      "SHOPPING : 2.245289405393208\n",
      "BOOKS_AND_REFERENCE : 2.1437436533904997\n",
      "DATING : 1.8616721200496444\n",
      "VIDEO_PLAYERS : 1.7939749520478394\n",
      "MAPS_AND_NAVIGATION : 1.399074805370642\n",
      "FOOD_AND_DRINK : 1.241114746699763\n",
      "EDUCATION : 1.1621347173643235\n",
      "ENTERTAINMENT : 0.9590432133589079\n",
      "LIBRARIES_AND_DEMO : 0.9364774906916393\n",
      "AUTO_AND_VEHICLES : 0.9251946293580051\n",
      "HOUSE_AND_HOME : 0.8236488773552973\n",
      "WEATHER : 0.8010831546880289\n",
      "EVENTS : 0.7108202640189552\n",
      "PARENTING : 0.6544059573507841\n",
      "ART_AND_DESIGN : 0.6431230960171499\n",
      "COMICS : 0.6205573733498815\n",
      "BEAUTY : 0.5979916506826132\n"
     ]
    }
   ],
   "source": [
    "print('Frequency table for Google Play by Genre:', '\\n')\n",
    "display_table(free_android, 1) #Genres"
   ]
  },
  {
   "cell_type": "code",
   "execution_count": 22,
   "metadata": {},
   "outputs": [
    {
     "name": "stdout",
     "output_type": "stream",
     "text": [
      "Frequency table for Google Play by Category: \n",
      "\n",
      "Tools : 8.450863138892023\n",
      "Entertainment : 6.070179397495204\n",
      "Education : 5.348076272142616\n",
      "Business : 4.592124562789123\n",
      "Productivity : 3.8925871601038025\n",
      "Lifestyle : 3.8925871601038025\n",
      "Finance : 3.7007785174320205\n",
      "Medical : 3.5315355974275078\n",
      "Sports : 3.463838429425702\n",
      "Personalization : 3.317161232088458\n",
      "Communication : 3.2381812027530184\n",
      "Action : 3.102786866749408\n",
      "Health & Fitness : 3.0802211440821394\n",
      "Photography : 2.944826808078529\n",
      "News & Magazines : 2.798149610741284\n",
      "Social : 2.6627552747376737\n",
      "Travel & Local : 2.324269434728647\n",
      "Shopping : 2.245289405393208\n",
      "Books & Reference : 2.1437436533904997\n",
      "Simulation : 2.042197901387792\n",
      "Dating : 1.8616721200496444\n",
      "Arcade : 1.8503892587160102\n",
      "Video Players & Editors : 1.771409229380571\n",
      "Casual : 1.7601263680469368\n",
      "Maps & Navigation : 1.399074805370642\n",
      "Food & Drink : 1.241114746699763\n",
      "Puzzle : 1.128286133363421\n",
      "Racing : 0.9928917973598104\n",
      "Role Playing : 0.9364774906916393\n",
      "Libraries & Demo : 0.9364774906916393\n",
      "Auto & Vehicles : 0.9251946293580051\n",
      "Strategy : 0.9026289066907368\n",
      "House & Home : 0.8236488773552973\n",
      "Weather : 0.8010831546880289\n",
      "Events : 0.7108202640189552\n",
      "Adventure : 0.6769716800180525\n",
      "Comics : 0.6092745120162473\n",
      "Beauty : 0.5979916506826132\n",
      "Art & Design : 0.5979916506826132\n",
      "Parenting : 0.4964458986799052\n",
      "Card : 0.4513144533453684\n",
      "Casino : 0.42874873067809993\n",
      "Trivia : 0.4174658693444658\n",
      "Educational;Education : 0.3949001466771973\n",
      "Board : 0.38361728534356315\n",
      "Educational : 0.37233442400992894\n",
      "Education;Education : 0.33848584000902626\n",
      "Word : 0.25950581067358686\n",
      "Casual;Pretend Play : 0.2369400880063184\n",
      "Music : 0.20309150400541578\n",
      "Racing;Action & Adventure : 0.16924292000451313\n",
      "Puzzle;Brain Games : 0.16924292000451313\n",
      "Entertainment;Music & Video : 0.16924292000451313\n",
      "Casual;Brain Games : 0.1353943360036105\n",
      "Casual;Action & Adventure : 0.1353943360036105\n",
      "Arcade;Action & Adventure : 0.1241114746699763\n",
      "Action;Action & Adventure : 0.10154575200270789\n",
      "Educational;Pretend Play : 0.09026289066907367\n",
      "Simulation;Action & Adventure : 0.07898002933543948\n",
      "Parenting;Education : 0.07898002933543948\n",
      "Entertainment;Brain Games : 0.07898002933543948\n",
      "Board;Brain Games : 0.07898002933543948\n",
      "Parenting;Music & Video : 0.06769716800180525\n",
      "Educational;Brain Games : 0.06769716800180525\n",
      "Casual;Creativity : 0.06769716800180525\n",
      "Art & Design;Creativity : 0.06769716800180525\n",
      "Education;Pretend Play : 0.05641430666817105\n",
      "Role Playing;Pretend Play : 0.045131445334536835\n",
      "Education;Creativity : 0.045131445334536835\n",
      "Role Playing;Action & Adventure : 0.033848584000902626\n",
      "Puzzle;Action & Adventure : 0.033848584000902626\n",
      "Entertainment;Creativity : 0.033848584000902626\n",
      "Entertainment;Action & Adventure : 0.033848584000902626\n",
      "Educational;Creativity : 0.033848584000902626\n",
      "Educational;Action & Adventure : 0.033848584000902626\n",
      "Education;Music & Video : 0.033848584000902626\n",
      "Education;Brain Games : 0.033848584000902626\n",
      "Education;Action & Adventure : 0.033848584000902626\n",
      "Adventure;Action & Adventure : 0.033848584000902626\n",
      "Video Players & Editors;Music & Video : 0.022565722667268417\n",
      "Sports;Action & Adventure : 0.022565722667268417\n",
      "Simulation;Pretend Play : 0.022565722667268417\n",
      "Puzzle;Creativity : 0.022565722667268417\n",
      "Music;Music & Video : 0.022565722667268417\n",
      "Entertainment;Pretend Play : 0.022565722667268417\n",
      "Casual;Education : 0.022565722667268417\n",
      "Board;Action & Adventure : 0.022565722667268417\n",
      "Video Players & Editors;Creativity : 0.011282861333634209\n",
      "Trivia;Education : 0.011282861333634209\n",
      "Travel & Local;Action & Adventure : 0.011282861333634209\n",
      "Tools;Education : 0.011282861333634209\n",
      "Strategy;Education : 0.011282861333634209\n",
      "Strategy;Creativity : 0.011282861333634209\n",
      "Strategy;Action & Adventure : 0.011282861333634209\n",
      "Simulation;Education : 0.011282861333634209\n",
      "Role Playing;Brain Games : 0.011282861333634209\n",
      "Racing;Pretend Play : 0.011282861333634209\n",
      "Puzzle;Education : 0.011282861333634209\n",
      "Parenting;Brain Games : 0.011282861333634209\n",
      "Music & Audio;Music & Video : 0.011282861333634209\n",
      "Lifestyle;Pretend Play : 0.011282861333634209\n",
      "Lifestyle;Education : 0.011282861333634209\n",
      "Health & Fitness;Education : 0.011282861333634209\n",
      "Health & Fitness;Action & Adventure : 0.011282861333634209\n",
      "Entertainment;Education : 0.011282861333634209\n",
      "Communication;Creativity : 0.011282861333634209\n",
      "Comics;Creativity : 0.011282861333634209\n",
      "Casual;Music & Video : 0.011282861333634209\n",
      "Card;Action & Adventure : 0.011282861333634209\n",
      "Books & Reference;Education : 0.011282861333634209\n",
      "Art & Design;Pretend Play : 0.011282861333634209\n",
      "Art & Design;Action & Adventure : 0.011282861333634209\n",
      "Arcade;Pretend Play : 0.011282861333634209\n",
      "Adventure;Education : 0.011282861333634209\n"
     ]
    }
   ],
   "source": [
    "print('Frequency table for Google Play by Category:', '\\n')\n",
    "display_table(free_android, -4) #Category"
   ]
  },
  {
   "cell_type": "markdown",
   "metadata": {},
   "source": [
    "## Most Popular Apps by Genre on the App Store"
   ]
  },
  {
   "cell_type": "code",
   "execution_count": 28,
   "metadata": {},
   "outputs": [
    {
     "name": "stdout",
     "output_type": "stream",
     "text": [
      "Social Networking : 71548.34905660378\n",
      "Photo & Video : 28441.54375\n",
      "Games : 22788.6696905016\n",
      "Music : 57326.530303030304\n",
      "Reference : 74942.11111111111\n",
      "Health & Fitness : 23298.015384615384\n",
      "Weather : 52279.892857142855\n",
      "Utilities : 18684.456790123455\n",
      "Travel : 28243.8\n",
      "Shopping : 26919.690476190477\n",
      "News : 21248.023255813954\n",
      "Navigation : 86090.33333333333\n",
      "Lifestyle : 16485.764705882353\n",
      "Entertainment : 14029.830708661417\n",
      "Food & Drink : 33333.92307692308\n",
      "Sports : 23008.898550724636\n",
      "Book : 39758.5\n",
      "Finance : 31467.944444444445\n",
      "Education : 7003.983050847458\n",
      "Productivity : 21028.410714285714\n",
      "Business : 7491.117647058823\n",
      "Catalogs : 4004.0\n",
      "Medical : 612.0\n"
     ]
    }
   ],
   "source": [
    "freq_prime_genre = freq_table(free_apple, -5) #prime_genre\n",
    "\n",
    "for genre in freq_prime_genre:\n",
    "    total = 0\n",
    "    len_genre = 0\n",
    "    for app in free_apple:\n",
    "        genre_app = app[-5]\n",
    "        if genre_app == genre:\n",
    "            n_ratings = float(app[5])\n",
    "            total += n_ratings\n",
    "            len_genre += 1\n",
    "    avg_n_ratings = total / len_genre\n",
    "    print(genre, ':', avg_n_ratings)"
   ]
  },
  {
   "cell_type": "code",
   "execution_count": 29,
   "metadata": {
    "scrolled": true
   },
   "outputs": [
    {
     "name": "stdout",
     "output_type": "stream",
     "text": [
      "Facebook : 2974676\n",
      "Pinterest : 1061624\n",
      "Skype for iPhone : 373519\n",
      "Messenger : 351466\n",
      "Tumblr : 334293\n",
      "WhatsApp Messenger : 287589\n",
      "Kik : 260965\n",
      "ooVoo – Free Video Call, Text and Voice : 177501\n",
      "TextNow - Unlimited Text + Calls : 164963\n",
      "Viber Messenger – Text & Call : 164249\n",
      "Followers - Social Analytics For Instagram : 112778\n",
      "MeetMe - Chat and Meet New People : 97072\n",
      "We Heart It - Fashion, wallpapers, quotes, tattoos : 90414\n",
      "InsTrack for Instagram - Analytics Plus More : 85535\n",
      "Tango - Free Video Call, Voice and Chat : 75412\n",
      "LinkedIn : 71856\n",
      "Match™ - #1 Dating App. : 60659\n",
      "Skype for iPad : 60163\n",
      "POF - Best Dating App for Conversations : 52642\n",
      "Timehop : 49510\n",
      "Find My Family, Friends & iPhone - Life360 Locator : 43877\n",
      "Whisper - Share, Express, Meet : 39819\n",
      "Hangouts : 36404\n",
      "LINE PLAY - Your Avatar World : 34677\n",
      "WeChat : 34584\n",
      "Badoo - Meet New People, Chat, Socialize. : 34428\n",
      "Followers + for Instagram - Follower Analytics : 28633\n",
      "GroupMe : 28260\n",
      "Marco Polo Video Walkie Talkie : 27662\n",
      "Miitomo : 23965\n",
      "SimSimi : 23530\n",
      "Grindr - Gay and same sex guys chat, meet and date : 23201\n",
      "Wishbone - Compare Anything : 20649\n",
      "imo video calls and chat : 18841\n",
      "After School - Funny Anonymous School News : 18482\n",
      "Quick Reposter - Repost, Regram and Reshare Photos : 17694\n",
      "Weibo HD : 16772\n",
      "Repost for Instagram : 15185\n",
      "Live.me – Live Video Chat & Make Friends Nearby : 14724\n",
      "Nextdoor : 14402\n",
      "Followers Analytics for Instagram - InstaReport : 13914\n",
      "YouNow: Live Stream Video Chat : 12079\n",
      "FollowMeter for Instagram - Followers Tracking : 11976\n",
      "LINE : 11437\n",
      "eHarmony™ Dating App - Meet Singles : 11124\n",
      "Discord - Chat for Gamers : 9152\n",
      "QQ : 9109\n",
      "Telegram Messenger : 7573\n",
      "Weibo : 7265\n",
      "Periscope - Live Video Streaming Around the World : 6062\n",
      "Chat for Whatsapp - iPad Version : 5060\n",
      "QQ HD : 5058\n",
      "Followers Analysis Tool For Instagram App Free : 4253\n",
      "live.ly - live video streaming : 4145\n",
      "Houseparty - Group Video Chat : 3991\n",
      "SOMA Messenger : 3232\n",
      "Monkey : 3060\n",
      "Down To Lunch : 2535\n",
      "Flinch - Video Chat Staring Contest : 2134\n",
      "Highrise - Your Avatar Community : 2011\n",
      "LOVOO - Dating Chat : 1985\n",
      "PlayStation®Messages : 1918\n",
      "BOO! - Video chat camera with filters & stickers : 1805\n",
      "Qzone : 1649\n",
      "Chatous - Chat with new people : 1609\n",
      "Kiwi - Q&A : 1538\n",
      "GhostCodes - a discovery app for Snapchat : 1313\n",
      "Jodel : 1193\n",
      "FireChat : 1037\n",
      "Google Duo - simple video calling : 1033\n",
      "Fiesta by Tango - Chat & Meet New People : 885\n",
      "Google Allo — smart messaging : 862\n",
      "Peach — share vividly : 727\n",
      "Hey! VINA - Where Women Meet New Friends : 719\n",
      "Battlefield™ Companion : 689\n",
      "All Devices for WhatsApp - Messenger for iPad : 682\n",
      "Chat for Pokemon Go - GoChat : 500\n",
      "IAmNaughty – Dating App to Meet New People Online : 463\n",
      "Qzone HD : 458\n",
      "Zenly - Locate your friends in realtime : 427\n",
      "League of Legends Friends : 420\n",
      "豆瓣 : 407\n",
      "Candid - Speak Your Mind Freely : 398\n",
      "知乎 : 397\n",
      "Selfeo : 366\n",
      "Fake-A-Location Free ™ : 354\n",
      "Popcorn Buzz - Free Group Calls : 281\n",
      "Fam — Group video calling for iMessage : 279\n",
      "QQ International : 274\n",
      "Ameba : 269\n",
      "SoundCloud Pulse: for creators : 240\n",
      "Tantan : 235\n",
      "Cougar Dating & Life Style App for Mature Women : 213\n",
      "Rawr Messenger - Dab your chat : 180\n",
      "WhenToPost: Best Time to Post Photos for Instagram : 158\n",
      "Inke—Broadcast an amazing life : 147\n",
      "Mustknow - anonymous video Q&A : 53\n",
      "CTFxCmoji : 39\n",
      "Lobi : 36\n",
      "Chain: Collaborate On MyVideo Story/Group Video : 35\n",
      "botman - Real time video chat : 7\n",
      "BestieBox : 0\n",
      "MATCH ON LINE chat : 0\n",
      "niconico ch : 0\n",
      "LINE BLOG : 0\n",
      "bit-tube - Live Stream Video Chat : 0\n"
     ]
    }
   ],
   "source": [
    "for app in free_apple:\n",
    "    if app[-5] == 'Social Networking':\n",
    "        print(app[1], ':', app[5]) # print name and number of ratings"
   ]
  },
  {
   "cell_type": "markdown",
   "metadata": {},
   "source": [
    "## Most Popular Apps by Genre on Google Play"
   ]
  },
  {
   "cell_type": "code",
   "execution_count": 33,
   "metadata": {},
   "outputs": [
    {
     "name": "stdout",
     "output_type": "stream",
     "text": [
      "Art & Design : 2122850.9433962265\n",
      "Art & Design;Creativity : 285000.0\n",
      "Auto & Vehicles : 647317.8170731707\n",
      "Beauty : 513151.88679245283\n",
      "Books & Reference : 8767811.894736841\n",
      "Business : 1712290.1474201474\n",
      "Comics : 831873.1481481482\n",
      "Comics;Creativity : 50000.0\n",
      "Communication : 38456119.167247385\n",
      "Dating : 854028.8303030303\n",
      "Education : 550185.4430379746\n",
      "Education;Creativity : 2875000.0\n",
      "Education;Education : 4759517.0\n",
      "Education;Pretend Play : 1800000.0\n",
      "Education;Brain Games : 5333333.333333333\n",
      "Entertainment : 5602792.775092937\n",
      "Entertainment;Brain Games : 3314285.714285714\n",
      "Entertainment;Creativity : 4000000.0\n",
      "Entertainment;Music & Video : 6413333.333333333\n",
      "Events : 253542.22222222222\n",
      "Finance : 1387692.475609756\n",
      "Food & Drink : 1924897.7363636363\n",
      "Health & Fitness : 4188821.9853479853\n",
      "House & Home : 1331540.5616438356\n",
      "Libraries & Demo : 638503.734939759\n",
      "Lifestyle : 1412998.3449275363\n",
      "Lifestyle;Pretend Play : 10000000.0\n",
      "Card : 3815462.5\n",
      "Arcade : 22888365.48780488\n",
      "Puzzle : 8302861.91\n",
      "Racing : 15910645.681818182\n",
      "Sports : 4596842.615635179\n",
      "Casual : 19569221.602564104\n",
      "Simulation : 3475484.08839779\n",
      "Adventure : 4922785.333333333\n",
      "Trivia : 3475712.7027027025\n",
      "Action : 12603588.872727273\n",
      "Word : 9094458.695652174\n",
      "Role Playing : 3965645.421686747\n",
      "Strategy : 11339901.3125\n",
      "Board : 4759209.117647059\n",
      "Music : 9445583.333333334\n",
      "Action;Action & Adventure : 5888888.888888889\n",
      "Casual;Brain Games : 1425916.6666666667\n",
      "Educational;Creativity : 2333333.3333333335\n",
      "Puzzle;Brain Games : 9280666.666666666\n",
      "Educational;Education : 1737143.142857143\n",
      "Casual;Pretend Play : 6957142.857142857\n",
      "Educational;Brain Games : 4433333.333333333\n",
      "Art & Design;Pretend Play : 500000.0\n",
      "Educational;Pretend Play : 9375000.0\n",
      "Entertainment;Education : 1000000.0\n",
      "Casual;Education : 1000000.0\n",
      "Casual;Creativity : 5333333.333333333\n",
      "Casual;Action & Adventure : 12916666.666666666\n",
      "Music;Music & Video : 5050000.0\n",
      "Arcade;Pretend Play : 1000000.0\n",
      "Adventure;Action & Adventure : 35333333.333333336\n",
      "Role Playing;Action & Adventure : 7000000.0\n",
      "Simulation;Pretend Play : 550000.0\n",
      "Puzzle;Creativity : 750000.0\n",
      "Simulation;Action & Adventure : 4857142.857142857\n",
      "Racing;Action & Adventure : 8816666.666666666\n",
      "Sports;Action & Adventure : 5050000.0\n",
      "Educational;Action & Adventure : 17016666.666666668\n",
      "Arcade;Action & Adventure : 3190909.1818181816\n",
      "Entertainment;Action & Adventure : 2333333.3333333335\n",
      "Art & Design;Action & Adventure : 100000.0\n",
      "Puzzle;Action & Adventure : 18366666.666666668\n",
      "Education;Action & Adventure : 1000000.0\n",
      "Strategy;Action & Adventure : 1000000.0\n",
      "Music & Audio;Music & Video : 500000.0\n",
      "Health & Fitness;Education : 100000.0\n",
      "Board;Action & Adventure : 3000000.0\n",
      "Board;Brain Games : 407142.85714285716\n",
      "Casual;Music & Video : 10000000.0\n",
      "Education;Music & Video : 2033333.3333333333\n",
      "Role Playing;Pretend Play : 5275000.0\n",
      "Entertainment;Pretend Play : 3000000.0\n",
      "Medical : 120550.61980830671\n",
      "Social : 23253652.127118643\n",
      "Shopping : 7036877.311557789\n",
      "Photography : 17840110.40229885\n",
      "Travel & Local : 14051476.145631067\n",
      "Travel & Local;Action & Adventure : 100000.0\n",
      "Tools : 10802461.246995995\n",
      "Tools;Education : 10000000.0\n",
      "Personalization : 5201482.6122448975\n",
      "Productivity : 16787331.344927534\n",
      "Parenting : 467977.5\n",
      "Parenting;Music & Video : 1118333.3333333333\n",
      "Parenting;Education : 452857.14285714284\n",
      "Parenting;Brain Games : 1000000.0\n",
      "Weather : 5074486.197183099\n",
      "Video Players & Editors : 24947335.796178345\n",
      "Video Players & Editors;Music & Video : 7500000.0\n",
      "Video Players & Editors;Creativity : 5000000.0\n",
      "News & Magazines : 9549178.467741935\n",
      "Maps & Navigation : 4056941.7741935486\n",
      "Health & Fitness;Action & Adventure : 1000000.0\n",
      "Educational : 411184.8484848485\n",
      "Casino : 3427910.5263157897\n",
      "Trivia;Education : 100.0\n",
      "Lifestyle;Education : 100000.0\n",
      "Card;Action & Adventure : 10000000.0\n",
      "Books & Reference;Education : 1000.0\n",
      "Simulation;Education : 500.0\n",
      "Puzzle;Education : 100000.0\n",
      "Adventure;Education : 10000000.0\n",
      "Role Playing;Brain Games : 10000000.0\n",
      "Strategy;Education : 500000.0\n",
      "Racing;Pretend Play : 1000000.0\n",
      "Communication;Creativity : 500000.0\n",
      "Strategy;Creativity : 1000000.0\n"
     ]
    }
   ],
   "source": [
    "freq_category = freq_table(free_android, -4) #Category\n",
    "\n",
    "for category in freq_category:\n",
    "    total = 0\n",
    "    len_category = 0\n",
    "    for app in free_android:\n",
    "        category_app = app[-4]\n",
    "        if category_app == category:\n",
    "            n_installs = app[5]\n",
    "            n_installs = n_installs.replace(',', '')\n",
    "            n_installs = n_installs.replace('+', '')\n",
    "            n_installs = float(n_installs)\n",
    "            total += n_installs\n",
    "            len_category += 1\n",
    "    avg_n_installs = total / len_category\n",
    "    print(category, ':', avg_n_installs)"
   ]
  },
  {
   "cell_type": "code",
   "execution_count": 34,
   "metadata": {
    "scrolled": true
   },
   "outputs": [
    {
     "name": "stdout",
     "output_type": "stream",
     "text": [
      "Photo Editor & Candy Camera & Grid & ScrapBook : 10,000+\n",
      "U Launcher Lite – FREE Live Cool Themes, Hide Apps : 5,000,000+\n",
      "Sketch - Draw & Paint : 50,000,000+\n",
      "Paper flowers instructions : 50,000+\n",
      "Smoke Effect Photo Maker - Smoke Editor : 50,000+\n",
      "Infinite Painter : 1,000,000+\n",
      "Garden Coloring Book : 1,000,000+\n",
      "Text on Photo - Fonteee : 1,000,000+\n",
      "Name Art Photo Editor - Focus n Filters : 1,000,000+\n",
      "Tattoo Name On My Photo Editor : 10,000,000+\n",
      "Mandala Coloring Book : 100,000+\n",
      "3D Color Pixel by Number - Sandbox Art Coloring : 100,000+\n",
      "Learn To Draw Kawaii Characters : 5,000+\n",
      "Photo Designer - Write your name with shapes : 500,000+\n",
      "350 Diy Room Decor Ideas : 10,000+\n",
      "FlipaClip - Cartoon animation : 5,000,000+\n",
      "ibis Paint X : 10,000,000+\n",
      "Logo Maker - Small Business : 100,000+\n",
      "Boys Photo Editor - Six Pack & Men's Suit : 100,000+\n",
      "Superheroes Wallpapers | 4K Backgrounds : 500,000+\n",
      "HD Mickey Minnie Wallpapers : 50,000+\n",
      "Harley Quinn wallpapers HD : 10,000+\n",
      "Animated Photo Editor : 100,000+\n",
      "Pencil Sketch Drawing : 10,000+\n",
      "Easy Realistic Drawing Tutorial : 100,000+\n",
      "Pink Silver Bow Keyboard Theme : 100,000+\n",
      "Art Drawing Ideas : 50,000+\n",
      "Anime Manga Coloring Book : 100,000+\n",
      "Easy Origami Ideas : 100,000+\n",
      "I Creative Idea : 10,000+\n",
      "How to draw Ladybug and Cat Noir : 100,000+\n",
      "Floor Plan Creator : 5,000,000+\n",
      "PIP Camera - PIP Collage Maker : 10,000+\n",
      "How To Color Disney Princess - Coloring Pages : 500,000+\n",
      "Drawing Clothes Fashion Ideas : 10,000+\n",
      "Sad Poetry Photo Frames 2018 : 100,000+\n",
      "Popsicle Sticks and Similar DIY Craft Ideas : 10,000+\n",
      "Canva: Poster, banner, card maker & graphic design : 10,000,000+\n",
      "Install images with music to make video without Net - 2018 : 100,000+\n",
      "Little Teddy Bear Colouring Book Game : 100,000+\n",
      "How To Draw Food : 100,000+\n",
      "Cardi B Wallpaper : 50,000+\n",
      "Textgram - write on photos : 10,000,000+\n",
      "X Launcher: With OS11 Style Theme & Control Center : 100,000+\n",
      "Ai illustrator viewer : 100,000+\n",
      "AJ Styles HD Wallpapers : 5,000+\n",
      "AJ Styles Wallpaper 2018 - AJ Styles HD Wallpaper : 1,000+\n",
      "Fantasy theme dark bw black building : 5,000+\n",
      "Easy DIY CD Craft Ideas : 5,000+\n",
      "Dp for girls : 50,000+\n",
      "Name Art DP - Focus n Filter Text 2018 : 10,000+\n",
      "Test Application DT 02 : 0+\n",
      "Spring flowers theme couleurs d t space : 100+\n"
     ]
    }
   ],
   "source": [
    "for app in free_android:\n",
    "    if app[-4] == 'Art & Design':\n",
    "        print(app[0], ':', app[5]) # print name and number of installs"
   ]
  },
  {
   "cell_type": "markdown",
   "metadata": {},
   "source": [
    "## Conclusions\n",
    "\n",
    "In this project, we analyzed data about the App Store and Google Play mobile apps with the goal of recommending an app profile that can be profitable for both markets.\n",
    "\n",
    "*We concluded that taking a popular book (perhaps a more recent book) and turning it into an app could be profitable for both the Google Play and the App Store markets. The markets are already full of libraries, so we need to add some special features besides the raw version of the book. This might include daily quotes from the book, an audio version of the book, quizzes on the book, a forum where people can discuss the book, etc.* (<--- needs changing!!)"
   ]
  },
  {
   "cell_type": "code",
   "execution_count": null,
   "metadata": {},
   "outputs": [],
   "source": []
  }
 ],
 "metadata": {
  "kernelspec": {
   "display_name": "Python 3",
   "language": "python",
   "name": "python3"
  },
  "language_info": {
   "codemirror_mode": {
    "name": "ipython",
    "version": 3
   },
   "file_extension": ".py",
   "mimetype": "text/x-python",
   "name": "python",
   "nbconvert_exporter": "python",
   "pygments_lexer": "ipython3",
   "version": "3.8.2"
  }
 },
 "nbformat": 4,
 "nbformat_minor": 2
}
